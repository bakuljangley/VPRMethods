{
 "cells": [
  {
   "cell_type": "code",
   "execution_count": 1,
   "metadata": {},
   "outputs": [
    {
     "name": "stdout",
     "output_type": "stream",
     "text": [
      "Current working directory: /Users/bakuljangley/Documents/ResearchAssignment/VPRMethods/CameraCaliberation\n",
      "Landscape directory: /Users/bakuljangley/Documents/ResearchAssignment/VPRMethods/CameraCaliberation/landscape\n",
      "Portrait directory: /Users/bakuljangley/Documents/ResearchAssignment/VPRMethods/CameraCaliberation/portrait\n",
      "Number of Landscape Images: 30\n",
      "Number of Portrait Images: 34\n"
     ]
    }
   ],
   "source": [
    "import glob\n",
    "import os\n",
    "import cv2 \n",
    "import matplotlib.pyplot as plt\n",
    "import numpy as np\n",
    "from utils import prepareObjPoints, plotImage, findBoard, CameraMatrix, scale_intrinsics\n",
    "# Get the current working directory\n",
    "root = os.getcwd()\n",
    "print(\"Current working directory:\", root)\n",
    "\n",
    "# Use relative path to navigate to the images directory\n",
    "landscape_directory = os.path.join(root, \"landscape\")\n",
    "portrait_directory = os.path.join(root, \"portrait\")\n",
    "print(\"Landscape directory:\", landscape_directory)\n",
    "print(\"Portrait directory:\", portrait_directory)\n",
    "\n",
    "images_landscape = []\n",
    "images_landscape.extend(glob.glob(os.path.join(landscape_directory, f\"*.JPG\")))\n",
    "print(\"Number of Landscape Images:\",len(images_landscape))\n",
    "\n",
    "images_portait = []\n",
    "images_portait.extend(glob.glob(os.path.join(portrait_directory, f\"*.JPG\")))\n",
    "print(\"Number of Portrait Images:\",len(images_portait))\n",
    "\n",
    "\n"
   ]
  },
  {
   "cell_type": "code",
   "execution_count": 2,
   "metadata": {},
   "outputs": [
    {
     "name": "stdout",
     "output_type": "stream",
     "text": [
      "(4032, 3024, 3)\n"
     ]
    }
   ],
   "source": [
    "# #the image resolution was too high, i'll have to use resized images. \n",
    "# #makes sense to resize to mast3r resolution and process\n",
    "# #i should also resize to actual image dimensions and check intrinsics\n",
    "\n",
    "#these would be different for portrait and landscape images \n",
    "\n",
    "# new_width = 384\n",
    "# new_height = 512\n",
    "\n",
    "\n",
    "image_path=\"/Users/bakuljangley/Documents/ResearchAssignment/VPRMethods/CameraCaliberation/portrait/IMG_2434.JPG\"\n",
    "image = cv2.imread(image_path)\n",
    "# resized = cv2.resize(image, (new_width, new_height), interpolation=cv2.INTER_AREA)\n",
    "# plotImage(resized)\n",
    "# plotImage(image)\n",
    "\n",
    "print(image.shape)\n",
    "\n",
    "#exampleUsage of findBoard\n",
    "# ret, corners=findBoard(\"/Users/bakuljangley/Documents/ResearchAssignment/VPRMethods/CameraCaliberation/landscape/IMG_2451.JPG\", verbose=True)"
   ]
  },
  {
   "cell_type": "code",
   "execution_count": 3,
   "metadata": {},
   "outputs": [
    {
     "name": "stdout",
     "output_type": "stream",
     "text": [
      "CAMERA MATRIX PORTRAIT\n",
      " [[222.52821253   0.         222.93543881]\n",
      " [  0.         220.66645189 260.3655876 ]\n",
      " [  0.           0.           1.        ]]\n",
      "K\n",
      " [[222.52821253   0.         222.93543881]\n",
      " [  0.         220.66645189 260.3655876 ]\n",
      " [  0.           0.           1.        ]]\n",
      "K Scaled\n",
      " [[2.33654623e+03 0.00000000e+00 2.34082211e+03]\n",
      " [0.00000000e+00 1.30331123e+03 1.53778425e+03]\n",
      " [0.00000000e+00 0.00000000e+00 1.00000000e+00]]\n"
     ]
    }
   ],
   "source": [
    "new_width = 384\n",
    "new_height = 512\n",
    "\n",
    "# findBoard(\"/Users/bakuljangley/Documents/ResearchAssignment/VPRMethods/CameraCaliberation/portrait/IMG_2439.JPG\", verbose=True)\n",
    "\n",
    "a = 9\n",
    "b = 6\n",
    "square_size = 0.024\n",
    "objp = prepareObjPoints(a,b,square_size) # prepare object points, like (0,0,0), (1,0,0), (2,0,0) ....,(6,5,0)\n",
    "\n",
    "# Arrays to store object points and image points from all the images.\n",
    "objpoints = [] # 3d point in real world space\n",
    "imgpoints = [] # 2d points in image plane.\n",
    "\n",
    "for image in images_portait:\n",
    "    ret, corners = findBoard(image, new_width=new_width, new_height=new_height)\n",
    "    if ret:\n",
    "        \n",
    "        objpoints.append(objp)\n",
    "        imgpoints.append(corners)\n",
    "\n",
    "\n",
    "ret, mtx, dist, rvecs, tvecs = cv2.calibrateCamera(objpoints, imgpoints,tuple([new_width,new_height]) , None, None)\n",
    "print(\"CAMERA MATRIX PORTRAIT\\n\",mtx)\n",
    "\n",
    "K = CameraMatrix(mtx[0,0], mtx[1,1], mtx[0,2], mtx[1,2])\n",
    "K_scaled = scale_intrinsics(K, new_width, new_height, 4032, 3024)\n",
    "print(\"K\\n\", K)\n",
    "print(\"K Scaled\\n\", K_scaled)\n"
   ]
  },
  {
   "cell_type": "code",
   "execution_count": 4,
   "metadata": {},
   "outputs": [
    {
     "name": "stdout",
     "output_type": "stream",
     "text": [
      "CAMERA MATRIX LANDSCAPE\n",
      " [[345.69228143   0.         260.92439734]\n",
      " [  0.         343.62710482 191.36550125]\n",
      " [  0.           0.           1.        ]]\n"
     ]
    }
   ],
   "source": [
    "new_width = 512\n",
    "new_height = 384\n",
    "\n",
    "a = 9\n",
    "b = 6\n",
    "square_size = 0.024\n",
    "objp = prepareObjPoints(a,b,square_size) # prepare object points, like (0,0,0), (1,0,0), (2,0,0) ....,(6,5,0)\n",
    "\n",
    "# Arrays to store object points and image points from all the images.\n",
    "objpoints = [] # 3d point in real world space\n",
    "imgpoints = [] # 2d points in image plane.\n",
    "\n",
    "for image in images_landscape:\n",
    "    ret, corners = findBoard(image)\n",
    "    if ret:\n",
    "        \n",
    "        objpoints.append(objp)\n",
    "        imgpoints.append(corners)\n",
    "\n",
    "\n",
    "ret, mtx, dist, rvecs, tvecs = cv2.calibrateCamera(objpoints, imgpoints,tuple([new_width,new_height]) , None, None)\n",
    "print(\"CAMERA MATRIX LANDSCAPE\\n\",mtx)\n",
    "\n",
    "\n",
    "\n"
   ]
  },
  {
   "cell_type": "code",
   "execution_count": 5,
   "metadata": {},
   "outputs": [
    {
     "name": "stdout",
     "output_type": "stream",
     "text": [
      "K\n",
      " [[345.69228143   0.         260.92439734]\n",
      " [  0.         343.62710482 191.36550125]\n",
      " [  0.           0.           1.        ]]\n",
      "K Scaled\n",
      " [[2.72232672e+03 0.00000000e+00 2.05477963e+03]\n",
      " [0.00000000e+00 2.70606345e+03 1.50700332e+03]\n",
      " [0.00000000e+00 0.00000000e+00 1.00000000e+00]]\n"
     ]
    }
   ],
   "source": [
    "K = CameraMatrix(mtx[0,0], mtx[1,1], mtx[0,2], mtx[1,2])\n",
    "K_scaled = scale_intrinsics(K, new_width, new_height, 4032, 3024)\n",
    "print(\"K\\n\", K)\n",
    "print(\"K Scaled\\n\", K_scaled)"
   ]
  },
  {
   "cell_type": "code",
   "execution_count": null,
   "metadata": {},
   "outputs": [],
   "source": []
  }
 ],
 "metadata": {
  "kernelspec": {
   "display_name": "plotting",
   "language": "python",
   "name": "python3"
  },
  "language_info": {
   "codemirror_mode": {
    "name": "ipython",
    "version": 3
   },
   "file_extension": ".py",
   "mimetype": "text/x-python",
   "name": "python",
   "nbconvert_exporter": "python",
   "pygments_lexer": "ipython3",
   "version": "3.9.21"
  }
 },
 "nbformat": 4,
 "nbformat_minor": 2
}
