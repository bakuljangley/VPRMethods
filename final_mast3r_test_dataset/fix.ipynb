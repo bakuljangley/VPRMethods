{
 "cells": [
  {
   "cell_type": "code",
   "execution_count": 1,
   "metadata": {},
   "outputs": [
    {
     "name": "stdout",
     "output_type": "stream",
     "text": [
      "Total images: 45\n"
     ]
    }
   ],
   "source": [
    "import os\n",
    "import numpy as np\n",
    "import csv\n",
    "def count_images(folder_path):\n",
    "    image_extensions = ('.jpg', '.jpeg', '.png', '.gif', '.bmp', '.tiff', '.webp')\n",
    "    return sum(1 for file in os.listdir(folder_path) if file.lower().endswith(image_extensions))\n",
    "\n",
    "# Set your folder path\n",
    "folder_path = '/Users/bakuljangley/Documents/ResearchAssignment/VPRMethods/final_mast3r_test_dataset/'\n",
    "image_count = count_images(folder_path)\n",
    "print(f'Total images: {image_count}')\n",
    "csv_path = 'metadata.csv'"
   ]
  },
  {
   "cell_type": "code",
   "execution_count": null,
   "metadata": {},
   "outputs": [
    {
     "name": "stdout",
     "output_type": "stream",
     "text": [
      "Current working directory: /Users/bakuljangley/Documents/ResearchAssignment/VPRMethods/final_mast3r_test_dataset\n",
      "('1', '/Users/bakuljangley/Documents/ResearchAssignment/VPRMethods/final_mast3r_test_dataset/IMG_1948.JPG')\n"
     ]
    }
   ],
   "source": [
    "from scenes import scene_locations1, scene_locations2, scene_locations3\n",
    "path = \"/Users/bakuljangley/Documents/ResearchAssignment/VPRMethods/final_mast3r_test_dataset\"\n",
    "\n",
    "\n",
    "#sets have images ordered\n",
    "set1 = np.arange(0,9) #actually corresponds to locations\n",
    "set2 = np.arange(9,18) #90 positive\n",
    "set3 = np.arange(18,27) #90 negative\n",
    "set4 = np.arange(27,36) #locations\n",
    "set5 = np.arange(36,45) #90 positive\n",
    "\n",
    "scene_rotations = [0,90,-90,0,90] #rotation per scene\n",
    "\n",
    "def rotatePointsAboutY(points, angle_degrees): #angle is positive in the counterclockwise direction\n",
    "    angle_radians = np.radians(angle_degrees)\n",
    "    rotation_matrix = np.array([\n",
    "        [np.cos(angle_radians), 0, -np.sin(angle_radians)],\n",
    "        [0, 1, 0],\n",
    "        [np.sin(angle_radians), 0, np.cos(angle_radians)]\n",
    "    ])\n",
    "    # Convert 2D points to 3D by adding y=0\n",
    "    points_3d = np.array([[x, 0, z] for x, z in points])\n",
    "    \n",
    "    # Apply rotation\n",
    "    rotated_points = np.dot(points_3d, rotation_matrix.T)\n",
    "    \n",
    "    # Return as 2D points (x and z coordinates)\n",
    "    return rotated_points[:, [0, 2]]\n",
    "\n",
    "\n",
    "def getSceneLocations(scene_id, scene_rotations=[0,90,-90,0,90]):\n",
    "    #these locations will be according to the image_id in \n",
    "    locations = [[0, 0], [0, -200], [0, 200], [200, 0], [-200, 0], [200, -200], [-200, -200], [200, 200], [-200, 200]]\n",
    "    if scene_id in [1,2,3,4,5]:\n",
    "        return rotatePointsAboutY(locations, scene_rotations[scene_id-1])\n",
    "    else:\n",
    "        print(\"Invalid Scene ID\")\n",
    "        return None\n",
    "\n",
    "\n",
    "# Get the current working directory\n",
    "root = os.getcwd()\n",
    "print(\"Current working directory:\", root)\n",
    "\n",
    "def getImageFromIndex(index, image_folder=root):\n",
    "    filename = image_folder + '/metadata.csv'\n",
    "    with open(filename, 'r', newline='') as csvfile:\n",
    "        csvreader = csv.DictReader(csvfile)\n",
    "        \n",
    "        for row in csvreader:\n",
    "            if row['id'] == str(index):\n",
    "                image_path = os.path.join(image_folder, row['image_name'])\n",
    "                return row['id'], image_path\n",
    "        \n",
    "        return None  # ID not found\n",
    "\n",
    "print(getImageFromIndex(1))\n",
    "\n",
    "\n",
    "\n",
    "\n"
   ]
  },
  {
   "cell_type": "code",
   "execution_count": null,
   "metadata": {},
   "outputs": [
    {
     "name": "stdout",
     "output_type": "stream",
     "text": [
      "[(0, 1), (0, 2), (0, 3), (0, 4), (0, 5), (0, 6), (0, 7), (0, 8), (1, 2), (1, 3), (1, 4), (1, 5), (1, 6), (1, 7), (1, 8), (2, 3), (2, 4), (2, 5), (2, 6), (2, 7), (2, 8), (3, 4), (3, 5), (3, 6), (3, 7), (3, 8), (4, 5), (4, 6), (4, 7), (4, 8), (5, 6), (5, 7), (5, 8), (6, 7), (6, 8), (7, 8)]\n"
     ]
    }
   ],
   "source": [
    "#ideally i want to read the scene as an anchor query pairs \n",
    "\n",
    "from itertools import combinations\n",
    "# Create pairs of all images\n",
    "image_pairs = list(combinations(set1, 2))\n",
    "print(image_pairs)\n",
    "\n",
    "queries = []\n",
    "anchors = []\n",
    "\n",
    "\n",
    "\n",
    "\n"
   ]
  },
  {
   "cell_type": "code",
   "execution_count": 7,
   "metadata": {},
   "outputs": [
    {
     "name": "stdout",
     "output_type": "stream",
     "text": [
      "[[0, 0], [0, -200], [0, 200], [200, 0], [-200, 0], [200, -200], [-200, -200], [200, 200], [-200, 200]]\n"
     ]
    },
    {
     "data": {
      "image/png": "[encoded data removed]",
      "text/plain": [
       "<Figure size 500x500 with 1 Axes>"
      ]
     },
     "metadata": {},
     "output_type": "display_data"
    }
   ],
   "source": [
    "print(scene_locations1)\n",
    "\n",
    "import matplotlib.pyplot as plt\n",
    "import numpy as np\n",
    "\n",
    "def plotPointsXZ(locations):\n",
    "    # Separate x and z coordinates\n",
    "    x = [loc[0] for loc in locations]\n",
    "    z = [loc[1] for loc in locations]\n",
    "\n",
    "    # Create the plot\n",
    "    plt.figure(figsize=(5, 5))\n",
    "    plt.scatter(x, z, color='red', s=100)  # Plot points\n",
    "\n",
    "    # Add labels for each point\n",
    "    for i, loc in enumerate(locations):\n",
    "        plt.annotate(f'P{i}', (loc[0], loc[1]), xytext=(5, 5), \n",
    "                    textcoords='offset points')\n",
    "\n",
    "    # Set axis labels\n",
    "    plt.xlabel('X-axis')\n",
    "    plt.ylabel('Z-axis')\n",
    "\n",
    "    # Set title\n",
    "    plt.title('X-Z Locations Plot')\n",
    "\n",
    "    # Add grid\n",
    "    plt.grid(True)\n",
    "\n",
    "    # Set equal scaling (so circles look circular)\n",
    "    plt.axis('equal')\n",
    "\n",
    "    # Show the plot\n",
    "    plt.show()\n",
    "\n",
    "\n",
    "plotPointsXZ(getSceneLocations(2))\n"
   ]
  },
  {
   "cell_type": "code",
   "execution_count": null,
   "metadata": {},
   "outputs": [],
   "source": []
  }
 ],
 "metadata": {
  "kernelspec": {
   "display_name": "plotting",
   "language": "python",
   "name": "python3"
  },
  "language_info": {
   "codemirror_mode": {
    "name": "ipython",
    "version": 3
   },
   "file_extension": ".py",
   "mimetype": "text/x-python",
   "name": "python",
   "nbconvert_exporter": "python",
   "pygments_lexer": "ipython3",
   "version": "3.9.21"
  },
  "orig_nbformat": 4
 },
 "nbformat": 4,
 "nbformat_minor": 2
}
